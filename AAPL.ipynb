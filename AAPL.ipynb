{
 "cells": [
  {
   "cell_type": "code",
   "execution_count": null,
   "metadata": {},
   "outputs": [],
   "source": [
    "import yfinance as yf\n",
    "from datetime import datetime, timedelta\n",
    "import matplotlib.pyplot as plt\n",
    "from statsmodels.graphics.tsaplots import plot_acf, plot_pacf\n",
    "from statsmodels.tsa.arima.model import ARIMA\n",
    "import numpy as np\n",
    "import seaborn as sns\n",
    "from tqdm import tqdm\n",
    "import pandas as pd\n",
    "from statsmodels.tools.sm_exceptions import ValueWarning, HessianInversionWarning, ConvergenceWarning\n",
    "import warnings\n",
    "\n",
    "#in practice do not supress these warnings, they carry important information about the status of your model\n",
    "warnings.filterwarnings('ignore', category=ValueWarning)\n",
    "warnings.filterwarnings('ignore', category=HessianInversionWarning)\n",
    "warnings.filterwarnings('ignore', category=ConvergenceWarning)"
   ]
  },
  {
   "cell_type": "code",
   "execution_count": null,
   "metadata": {},
   "outputs": [],
   "source": [
    "tickerSymbol = 'GC=F'\n",
    "data = yf.Ticker(tickerSymbol)\n",
    "\n",
    "prices = data.history(start='2020-01-01', end='2024-05-01').Close\n",
    "returns = prices.pct_change().dropna()"
   ]
  },
  {
   "cell_type": "code",
   "execution_count": null,
   "metadata": {},
   "outputs": [],
   "source": [
    "plt.figure(figsize=(10,4))\n",
    "plt.plot(returns)\n",
    "plt.ylabel('Return', fontsize=20)"
   ]
  },
  {
   "cell_type": "code",
   "execution_count": null,
   "metadata": {},
   "outputs": [],
   "source": [
    "plt.figure(figsize=(10,4))\n",
    "plt.plot(prices)\n",
    "plt.ylabel('Price', fontsize=20)"
   ]
  },
  {
   "cell_type": "code",
   "execution_count": null,
   "metadata": {},
   "outputs": [],
   "source": [
    "plot_acf(returns)\n",
    "plt.show()"
   ]
  },
  {
   "cell_type": "code",
   "execution_count": null,
   "metadata": {},
   "outputs": [],
   "source": [
    "plot_pacf(returns)\n",
    "plt.show()"
   ]
  },
  {
   "cell_type": "code",
   "execution_count": null,
   "metadata": {},
   "outputs": [],
   "source": [
    "def run_simulation(returns, prices, amount, order, thresh, verbose=True, plot=True):\n",
    "    returns.index = pd.to_datetime(returns.index)\n",
    "\n",
    "    #Rolling window of lags for ARIMA\n",
    "    window_size = 5\n",
    "\n",
    "    curr_holding = False\n",
    "    events_list = []\n",
    "    init_amount = amount\n",
    "\n",
    "    predictions = returns.copy()\n",
    "\n",
    "    for i in tqdm(range(window_size, len(returns)), desc='Processing predictions'):\n",
    "        tmrw_date = returns.index[i]\n",
    "        today_date = returns.index[i-1]\n",
    "        curr_data = returns.iloc[i-window_size:i]\n",
    "        model = ARIMA(curr_data, order=order)\n",
    "        results = model.fit()\n",
    "        prediction = results.forecast(1)\n",
    "        predictions.iloc[i] = prediction.iloc[0]\n",
    "\n",
    "        if (not curr_holding) and (prediction.iloc[0] > thresh):\n",
    "            buy_price = prices.iloc[i-1]\n",
    "            curr_holding = True\n",
    "            events_list.append(('b', today_date))\n",
    "        elif (prediction.iloc[0] < 0 or i == len(returns)-1) and curr_holding:\n",
    "            sell_price = prices.iloc[i-1]\n",
    "            # if sell_price > buy_price:\n",
    "            ret = (sell_price - buy_price)/buy_price\n",
    "            amount += ret\n",
    "            curr_holding = False\n",
    "            events_list.append(('s', today_date, ret))\n",
    "\n",
    "\n",
    "    if plot:\n",
    "        plt.figure(figsize=(12,6))\n",
    "        plt.plot(prices[14:])\n",
    "\n",
    "        y_lims = (int(prices.min()*.95), int(prices.max()*1.05))\n",
    "        shaded_y_lims = int(prices.min()*.5), int(prices.max()*1.5)\n",
    "\n",
    "        for idx, event in enumerate(events_list):\n",
    "            plt.axvline(event[1], color='k', linestyle='--', alpha=0.4)\n",
    "            if event[0] == 's':\n",
    "                color = 'yellow' if event[2] > 0 else 'purple'\n",
    "                plt.fill_betweenx(range(*shaded_y_lims), \n",
    "                                  event[1], events_list[idx-1][1], color=color, alpha=0.1)\n",
    "\n",
    "        tot_return = round(100*(amount / init_amount - 1), 2)\n",
    "        tot_return = str(tot_return) + '%'\n",
    "        plt.title(\"%s Price Data\\nThresh=%s\\nTotal Amt: $%s\\nTotal Return: %s\"%(tickerSymbol, thresh, round(amount,2), tot_return), fontsize=20)\n",
    "        plt.ylim(*y_lims)\n",
    "        plt.show()\n",
    "    \n",
    "\n",
    "    return predictions, events_list"
   ]
  },
  {
   "cell_type": "code",
   "execution_count": null,
   "metadata": {},
   "outputs": [],
   "source": [
    "my_order = (28,0,28)\n",
    "my_thresh = 0.005\n",
    "preds, events = run_simulation(returns, prices, amount=100, order=my_order, thresh=my_thresh)"
   ]
  },
  {
   "cell_type": "code",
   "execution_count": null,
   "metadata": {},
   "outputs": [],
   "source": [
    "print(events)"
   ]
  },
  {
   "cell_type": "code",
   "execution_count": null,
   "metadata": {},
   "outputs": [],
   "source": [
    "for date, pred_r in preds.items():\n",
    "    acc_r = returns[date]\n",
    "    print(date, \"|\", acc_r, \"  \", pred_r)"
   ]
  },
  {
   "cell_type": "code",
   "execution_count": null,
   "metadata": {},
   "outputs": [],
   "source": [
    "start_date = pd.to_datetime('2021-01-01 00:00:00-05:00')\n",
    "end_date = pd.to_datetime('2021-06-01 00:00:00-05:00')\n",
    "\n",
    "plt.figure(figsize=(10,4))\n",
    "plt.xlim(start_date, end_date)\n",
    "plt.plot(returns)\n",
    "plt.plot(preds)\n",
    "plt.ylabel('Return', fontsize=20)"
   ]
  },
  {
   "cell_type": "code",
   "execution_count": null,
   "metadata": {},
   "outputs": [],
   "source": []
  }
 ],
 "metadata": {
  "kernelspec": {
   "display_name": "use_this_env",
   "language": "python",
   "name": "python3"
  },
  "language_info": {
   "codemirror_mode": {
    "name": "ipython",
    "version": 3
   },
   "file_extension": ".py",
   "mimetype": "text/x-python",
   "name": "python",
   "nbconvert_exporter": "python",
   "pygments_lexer": "ipython3",
   "version": "3.11.5"
  }
 },
 "nbformat": 4,
 "nbformat_minor": 2
}
